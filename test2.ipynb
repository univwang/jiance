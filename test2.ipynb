{
 "cells": [
  {
   "cell_type": "code",
   "execution_count": 1,
   "metadata": {},
   "outputs": [],
   "source": [
    "import sys\n",
    "import os\n",
    "import sklearn\n",
    "import tensorflow as tf\n",
    "from tensorflow import keras\n",
    "import numpy as np\n",
    "import matplotlib as mpl\n",
    "import matplotlib.pyplot as plt\n",
    "%matplotlib inline\n",
    "mpl.rc('axes', labelsize=14)\n",
    "mpl.rc('xtick', labelsize=12)\n",
    "mpl.rc('ytick', labelsize=12)\n",
    "#去除没有必要的警告\n",
    "import warnings\n",
    "warnings.filterwarnings(action=\"ignore\",message=\"internal gelsd\")\n",
    "# 设置字符集，防止中文乱码\n",
    "mpl.rcParams['font.sans-serif'] = [u'simHei']\n",
    "mpl.rcParams['axes.unicode_minus'] = False\n",
    "plt.rcParams['font.sans-serif'] = ['Microsoft YaHei']  # 用来正常显示中文标签\n",
    "plt.rcParams['axes.unicode_minus'] = False  # 用来正常显示负号, 注意['SimHei']对应这句不行\n",
    "np.random.seed(42)\n",
    "tf.random.set_seed(42)"
   ]
  },
  {
   "cell_type": "code",
   "execution_count": 2,
   "metadata": {},
   "outputs": [],
   "source": [
    "#画图函数\n",
    "def plot_image(image):\n",
    "    plt.imshow(image, cmap=\"binary\")\n",
    "    plt.axis(\"off\")"
   ]
  },
  {
   "cell_type": "code",
   "execution_count": 3,
   "metadata": {},
   "outputs": [
    {
     "data": {
      "text/plain": [
       "(60, 3)"
      ]
     },
     "execution_count": 3,
     "metadata": {},
     "output_type": "execute_result"
    }
   ],
   "source": [
    "np.random.seed(4)\n",
    "\n",
    "def generate_3d_data(m, w1=0.1, w2=0.3, noise=0.1):\n",
    "    angles = np.random.rand(m) * 3 * np.pi / 2 - 0.5\n",
    "    data = np.empty((m, 3))\n",
    "    data[:, 0] = np.cos(angles) + np.sin(angles)/2 + noise * np.random.randn(m) / 2\n",
    "    data[:, 1] = np.sin(angles) * 0.7 + noise * np.random.randn(m) / 2\n",
    "    data[:, 2] = data[:, 0] * w1 + data[:, 1] * w2 + noise * np.random.randn(m)\n",
    "    return data\n",
    "#生成数据\n",
    "X_train = generate_3d_data(60)\n",
    "X_train.shape"
   ]
  },
  {
   "cell_type": "code",
   "execution_count": 4,
   "metadata": {},
   "outputs": [],
   "source": [
    "X_train = X_train - X_train.mean(axis=0, keepdims=0)"
   ]
  },
  {
   "cell_type": "code",
   "execution_count": 5,
   "metadata": {},
   "outputs": [],
   "source": [
    "np.random.seed(42)\n",
    "tf.random.set_seed(42)\n",
    "#编码器\n",
    "encoder = keras.models.Sequential([keras.layers.Dense(2, input_shape=[3])])#输入3维，输出2维\n",
    "#解码器\n",
    "decoder = keras.models.Sequential([keras.layers.Dense(3, input_shape=[2])])#输入2维，输出3维\n",
    "#自动编码器=编码器+解码器\n",
    "autoencoder = keras.models.Sequential([encoder, decoder])"
   ]
  },
  {
   "cell_type": "code",
   "execution_count": 6,
   "metadata": {},
   "outputs": [
    {
     "name": "stdout",
     "output_type": "stream",
     "text": [
      "Epoch 1/20\n",
      "2/2 [==============================] - 0s 5ms/step - loss: 0.2805\n",
      "Epoch 2/20\n",
      "2/2 [==============================] - 0s 2ms/step - loss: 0.0262\n",
      "Epoch 3/20\n",
      "2/2 [==============================] - 0s 2ms/step - loss: 0.0392\n",
      "Epoch 4/20\n",
      "2/2 [==============================] - 0s 3ms/step - loss: 0.1089\n",
      "Epoch 5/20\n",
      "2/2 [==============================] - 0s 2ms/step - loss: 0.0954\n",
      "Epoch 6/20\n",
      "2/2 [==============================] - 0s 2ms/step - loss: 0.0273\n",
      "Epoch 7/20\n",
      "2/2 [==============================] - 0s 2ms/step - loss: 0.0092\n",
      "Epoch 8/20\n",
      "2/2 [==============================] - 0s 4ms/step - loss: 0.0074\n",
      "Epoch 9/20\n",
      "2/2 [==============================] - 0s 1ms/step - loss: 0.0063\n",
      "Epoch 10/20\n",
      "2/2 [==============================] - 0s 3ms/step - loss: 0.0051\n",
      "Epoch 11/20\n",
      "2/2 [==============================] - 0s 3ms/step - loss: 0.0048\n",
      "Epoch 12/20\n",
      "2/2 [==============================] - 0s 3ms/step - loss: 0.0046\n",
      "Epoch 13/20\n",
      "2/2 [==============================] - 0s 2ms/step - loss: 0.0044\n",
      "Epoch 14/20\n",
      "2/2 [==============================] - 0s 3ms/step - loss: 0.0046\n",
      "Epoch 15/20\n",
      "2/2 [==============================] - 0s 3ms/step - loss: 0.0051\n",
      "Epoch 16/20\n",
      "2/2 [==============================] - 0s 2ms/step - loss: 0.0049\n",
      "Epoch 17/20\n",
      "2/2 [==============================] - 0s 2ms/step - loss: 0.0044\n",
      "Epoch 18/20\n",
      "2/2 [==============================] - 0s 3ms/step - loss: 0.0043\n",
      "Epoch 19/20\n",
      "2/2 [==============================] - 0s 4ms/step - loss: 0.0043\n",
      "Epoch 20/20\n",
      "2/2 [==============================] - 0s 2ms/step - loss: 0.0042\n"
     ]
    }
   ],
   "source": [
    "autoencoder.compile(loss=\"mse\", optimizer=keras.optimizers.SGD(learning_rate=1.5)) \n",
    "history = autoencoder.fit(X_train, X_train, epochs=20)"
   ]
  },
  {
   "cell_type": "code",
   "execution_count": 7,
   "metadata": {},
   "outputs": [
    {
     "name": "stdout",
     "output_type": "stream",
     "text": [
      "2/2 [==============================] - 0s 2ms/step\n"
     ]
    },
    {
     "data": {
      "text/plain": [
       "(60, 2)"
      ]
     },
     "execution_count": 7,
     "metadata": {},
     "output_type": "execute_result"
    }
   ],
   "source": [
    "codings = encoder.predict(X_train)\n",
    "codings.shape"
   ]
  },
  {
   "cell_type": "code",
   "execution_count": 8,
   "metadata": {},
   "outputs": [
    {
     "data": {
      "image/png": "[encoded data removed]",
      "text/plain": [
       "<Figure size 400x300 with 1 Axes>"
      ]
     },
     "metadata": {},
     "output_type": "display_data"
    }
   ],
   "source": [
    "fig = plt.figure(figsize=(4,3))\n",
    "plt.plot(codings[:,0], codings[:, 1], \"b.\")\n",
    "plt.xlabel(\"$z_1$\", fontsize=18)\n",
    "plt.ylabel(\"$z_2$\", fontsize=18, rotation=0)\n",
    "plt.grid(True)\n",
    "#save_fig(\"linear_autoencoder_pca_plot\")\n",
    "plt.show()"
   ]
  },
  {
   "cell_type": "code",
   "execution_count": 15,
   "metadata": {},
   "outputs": [
    {
     "data": {
      "text/plain": [
       "(55000, 28, 28)"
      ]
     },
     "execution_count": 15,
     "metadata": {},
     "output_type": "execute_result"
    }
   ],
   "source": [
    "(X_train_full, y_train_full), (X_test, y_test) = keras.datasets.fashion_mnist.load_data()\n",
    "X_train_full = X_train_full.astype(np.float32) / 255\n",
    "X_test = X_test.astype(np.float32) / 255\n",
    "X_train, X_valid = X_train_full[:-5000], X_train_full[-5000:]\n",
    "y_train, y_valid = y_train_full[:-5000], y_train_full[-5000:]\n",
    "\n",
    "X_train.shape"
   ]
  },
  {
   "cell_type": "code",
   "execution_count": 10,
   "metadata": {},
   "outputs": [],
   "source": [
    "def rounded_accuracy(y_true, y_pred):\n",
    "    return keras.metrics.binary_accuracy(tf.round(y_true), tf.round(y_pred))"
   ]
  },
  {
   "cell_type": "code",
   "execution_count": 11,
   "metadata": {},
   "outputs": [],
   "source": [
    "tf.random.set_seed(42)\n",
    "np.random.seed(42)\n",
    "\n",
    "#编码器\n",
    "stacked_encoder = keras.models.Sequential([\n",
    "    keras.layers.Flatten(input_shape=[28, 28]),#编码器使用28*28的灰度像素，并将其展平\n",
    "    #每个图像的大小为28*28=784\n",
    "    keras.layers.Dense(100, activation=\"selu\"),#通过两个尺寸递减的隐藏层处理这些向量\n",
    "    keras.layers.Dense(30, activation=\"selu\"),#使用selu激活函数，最后输出30的向量\n",
    "])\n",
    "\n",
    "#解码器\n",
    "stacked_decoder = keras.models.Sequential([\n",
    "    keras.layers.Dense(100, activation=\"selu\", input_shape=[30]),#输入长度为30的向量\n",
    "    keras.layers.Dense(28 * 28, activation=\"sigmoid\"),#输出是28*28的向量\n",
    "    keras.layers.Reshape([28, 28])#将向量变成图片\n",
    "])\n",
    "\n",
    "#自动编码器\n",
    "stacked_ae = keras.models.Sequential([stacked_encoder, stacked_decoder])\n",
    "stacked_ae.compile(loss=\"binary_crossentropy\",\n",
    "                   optimizer=keras.optimizers.SGD(learning_rate=1.5), \n",
    "                   metrics=[rounded_accuracy])\n",
    "#loss=\"binary_crossentropy\"表明使用二元交叉熵损失来代替均方误差（对应像素做差）\n",
    "#这样做，收敛的更快"
   ]
  },
  {
   "cell_type": "code",
   "execution_count": 12,
   "metadata": {},
   "outputs": [
    {
     "name": "stdout",
     "output_type": "stream",
     "text": [
      "Epoch 1/20\n",
      "1719/1719 [==============================] - 3s 2ms/step - loss: 0.3403 - rounded_accuracy: 0.8855 - val_loss: 0.3131 - val_rounded_accuracy: 0.9082\n",
      "Epoch 2/20\n",
      "1719/1719 [==============================] - 3s 2ms/step - loss: 0.3065 - rounded_accuracy: 0.9142 - val_loss: 0.3040 - val_rounded_accuracy: 0.9189\n",
      "Epoch 3/20\n",
      "1719/1719 [==============================] - 3s 2ms/step - loss: 0.3003 - rounded_accuracy: 0.9197 - val_loss: 0.3002 - val_rounded_accuracy: 0.9193\n",
      "Epoch 4/20\n",
      "1719/1719 [==============================] - 3s 2ms/step - loss: 0.2969 - rounded_accuracy: 0.9227 - val_loss: 0.2965 - val_rounded_accuracy: 0.9249\n",
      "Epoch 5/20\n",
      "1719/1719 [==============================] - 3s 2ms/step - loss: 0.2943 - rounded_accuracy: 0.9251 - val_loss: 0.2951 - val_rounded_accuracy: 0.9247\n",
      "Epoch 6/20\n",
      "1719/1719 [==============================] - 3s 2ms/step - loss: 0.2923 - rounded_accuracy: 0.9268 - val_loss: 0.2928 - val_rounded_accuracy: 0.9286\n",
      "Epoch 7/20\n",
      "1719/1719 [==============================] - 3s 2ms/step - loss: 0.2908 - rounded_accuracy: 0.9280 - val_loss: 0.2914 - val_rounded_accuracy: 0.9282\n",
      "Epoch 8/20\n",
      "1719/1719 [==============================] - 3s 2ms/step - loss: 0.2895 - rounded_accuracy: 0.9292 - val_loss: 0.2998 - val_rounded_accuracy: 0.9248\n",
      "Epoch 9/20\n",
      "1719/1719 [==============================] - 3s 2ms/step - loss: 0.2884 - rounded_accuracy: 0.9302 - val_loss: 0.2895 - val_rounded_accuracy: 0.9308\n",
      "Epoch 10/20\n",
      "1719/1719 [==============================] - 3s 2ms/step - loss: 0.2873 - rounded_accuracy: 0.9311 - val_loss: 0.2897 - val_rounded_accuracy: 0.9318\n",
      "Epoch 11/20\n",
      "1719/1719 [==============================] - 3s 2ms/step - loss: 0.2864 - rounded_accuracy: 0.9319 - val_loss: 0.2871 - val_rounded_accuracy: 0.9322\n",
      "Epoch 12/20\n",
      "1719/1719 [==============================] - 3s 2ms/step - loss: 0.2856 - rounded_accuracy: 0.9325 - val_loss: 0.2867 - val_rounded_accuracy: 0.9340\n",
      "Epoch 13/20\n",
      "1719/1719 [==============================] - 3s 2ms/step - loss: 0.2849 - rounded_accuracy: 0.9329 - val_loss: 0.2859 - val_rounded_accuracy: 0.9337\n",
      "Epoch 14/20\n",
      "1719/1719 [==============================] - 3s 2ms/step - loss: 0.2843 - rounded_accuracy: 0.9335 - val_loss: 0.2859 - val_rounded_accuracy: 0.9349\n",
      "Epoch 15/20\n",
      "1719/1719 [==============================] - 3s 2ms/step - loss: 0.2839 - rounded_accuracy: 0.9338 - val_loss: 0.2850 - val_rounded_accuracy: 0.9335\n",
      "Epoch 16/20\n",
      "1719/1719 [==============================] - 3s 2ms/step - loss: 0.2833 - rounded_accuracy: 0.9343 - val_loss: 0.2850 - val_rounded_accuracy: 0.9353\n",
      "Epoch 17/20\n",
      "1719/1719 [==============================] - 3s 2ms/step - loss: 0.2831 - rounded_accuracy: 0.9345 - val_loss: 0.2842 - val_rounded_accuracy: 0.9347\n",
      "Epoch 18/20\n",
      "1719/1719 [==============================] - 3s 2ms/step - loss: 0.2826 - rounded_accuracy: 0.9349 - val_loss: 0.2850 - val_rounded_accuracy: 0.9323\n",
      "Epoch 19/20\n",
      "1719/1719 [==============================] - 3s 2ms/step - loss: 0.2824 - rounded_accuracy: 0.9350 - val_loss: 0.2835 - val_rounded_accuracy: 0.9352\n",
      "Epoch 20/20\n",
      "1719/1719 [==============================] - 3s 2ms/step - loss: 0.2820 - rounded_accuracy: 0.9353 - val_loss: 0.2839 - val_rounded_accuracy: 0.9365\n"
     ]
    }
   ],
   "source": [
    "history = stacked_ae.fit(X_train, X_train, epochs=20,\n",
    "                         validation_data=(X_valid, X_valid))"
   ]
  },
  {
   "cell_type": "code",
   "execution_count": 13,
   "metadata": {},
   "outputs": [
    {
     "name": "stdout",
     "output_type": "stream",
     "text": [
      "1/1 [==============================] - 0s 62ms/step\n"
     ]
    },
    {
     "data": {
      "image/png": "[encoded data removed]",
      "text/plain": [
       "<Figure size 1050x300 with 14 Axes>"
      ]
     },
     "metadata": {},
     "output_type": "display_data"
    }
   ],
   "source": [
    "#定义可视化函数\n",
    "def show_reconstructions(model, images=X_valid, n_images=7):\n",
    "    reconstructions = model.predict(images[:n_images])\n",
    "    fig = plt.figure(figsize=(n_images * 1.5, 3))#留出的位置\n",
    "    for image_index in range(n_images):\n",
    "        plt.subplot(2, n_images, 1 + image_index)#第一行显示原本的验证集上的图片\n",
    "        plot_image(images[image_index])\n",
    "        plt.subplot(2, n_images, 1 + n_images + image_index)#第二行显示预测生成的图片\n",
    "        plot_image(reconstructions[image_index])\n",
    "show_reconstructions(stacked_ae)"
   ]
  },
  {
   "cell_type": "code",
   "execution_count": null,
   "metadata": {},
   "outputs": [],
   "source": []
  }
 ],
 "metadata": {
  "kernelspec": {
   "display_name": "jiance",
   "language": "python",
   "name": "python3"
  },
  "language_info": {
   "codemirror_mode": {
    "name": "ipython",
    "version": 3
   },
   "file_extension": ".py",
   "mimetype": "text/x-python",
   "name": "python",
   "nbconvert_exporter": "python",
   "pygments_lexer": "ipython3",
   "version": "3.8.17"
  },
  "orig_nbformat": 4
 },
 "nbformat": 4,
 "nbformat_minor": 2
}
